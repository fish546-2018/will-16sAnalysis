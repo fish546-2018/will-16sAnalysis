{
 "cells": [
  {
   "cell_type": "code",
   "execution_count": 10,
   "metadata": {},
   "outputs": [
    {
     "name": "stdout",
     "output_type": "stream",
     "text": [
      "gunzip: scripting_raw/raw.split.A_2.1.fq already exists -- skipping\n",
      "gunzip: scripting_raw/raw.split.A_2.2.fq already exists -- skipping\n",
      "Started analysis of raw.split.A_2.1.fq\n",
      "Approx 5% complete for raw.split.A_2.1.fq\n",
      "Approx 10% complete for raw.split.A_2.1.fq\n",
      "Approx 15% complete for raw.split.A_2.1.fq\n",
      "Approx 20% complete for raw.split.A_2.1.fq\n",
      "Started analysis of raw.split.A_2.2.fq\n",
      "Approx 25% complete for raw.split.A_2.1.fq\n",
      "Approx 30% complete for raw.split.A_2.1.fq\n",
      "Approx 35% complete for raw.split.A_2.1.fq\n",
      "Approx 40% complete for raw.split.A_2.1.fq\n",
      "Approx 5% complete for raw.split.A_2.2.fq\n",
      "Approx 45% complete for raw.split.A_2.1.fq\n",
      "Approx 10% complete for raw.split.A_2.2.fq\n",
      "Approx 50% complete for raw.split.A_2.1.fq\n",
      "Approx 15% complete for raw.split.A_2.2.fq\n",
      "Approx 55% complete for raw.split.A_2.1.fq\n",
      "Approx 20% complete for raw.split.A_2.2.fq\n",
      "Approx 60% complete for raw.split.A_2.1.fq\n",
      "Approx 65% complete for raw.split.A_2.1.fq\n",
      "Approx 25% complete for raw.split.A_2.2.fq\n",
      "Approx 70% complete for raw.split.A_2.1.fq\n",
      "Approx 30% complete for raw.split.A_2.2.fq\n",
      "Approx 75% complete for raw.split.A_2.1.fq\n",
      "Approx 35% complete for raw.split.A_2.2.fq\n",
      "Approx 80% complete for raw.split.A_2.1.fq\n",
      "Approx 40% complete for raw.split.A_2.2.fq\n",
      "Approx 85% complete for raw.split.A_2.1.fq\n",
      "Approx 45% complete for raw.split.A_2.2.fq\n",
      "Approx 90% complete for raw.split.A_2.1.fq\n",
      "Approx 50% complete for raw.split.A_2.2.fq\n",
      "Approx 95% complete for raw.split.A_2.1.fq\n",
      "Approx 55% complete for raw.split.A_2.2.fq\n",
      "Approx 60% complete for raw.split.A_2.2.fq\n",
      "Analysis complete for raw.split.A_2.1.fq\n",
      "Approx 65% complete for raw.split.A_2.2.fq\n",
      "Approx 70% complete for raw.split.A_2.2.fq\n",
      "Approx 75% complete for raw.split.A_2.2.fq\n",
      "Approx 80% complete for raw.split.A_2.2.fq\n",
      "Approx 85% complete for raw.split.A_2.2.fq\n",
      "Approx 90% complete for raw.split.A_2.2.fq\n",
      "Approx 95% complete for raw.split.A_2.2.fq\n",
      "Analysis complete for raw.split.A_2.2.fq\n"
     ]
    }
   ],
   "source": [
    "!find . -name \"*.fq.gz\" | xargs -n 1 -P 4 bash wsano-fastqc.sh "
   ]
  },
  {
   "cell_type": "code",
   "execution_count": null,
   "metadata": {},
   "outputs": [],
   "source": []
  },
  {
   "cell_type": "code",
   "execution_count": null,
   "metadata": {},
   "outputs": [],
   "source": []
  },
  {
   "cell_type": "code",
   "execution_count": null,
   "metadata": {},
   "outputs": [],
   "source": []
  }
 ],
 "metadata": {
  "kernelspec": {
   "display_name": "Python 3",
   "language": "python",
   "name": "python3"
  },
  "language_info": {
   "codemirror_mode": {
    "name": "ipython",
    "version": 3
   },
   "file_extension": ".py",
   "mimetype": "text/x-python",
   "name": "python",
   "nbconvert_exporter": "python",
   "pygments_lexer": "ipython3",
   "version": "3.7.0"
  }
 },
 "nbformat": 4,
 "nbformat_minor": 2
}
