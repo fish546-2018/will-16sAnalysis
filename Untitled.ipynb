{
 "cells": [
  {
   "cell_type": "markdown",
   "metadata": {},
   "source": [
    "## Tibetan Chiru 16S Amplicon Sequencing Analysis"
   ]
  },
  {
   "cell_type": "code",
   "execution_count": 1,
   "metadata": {},
   "outputs": [
    {
     "name": "stdout",
     "output_type": "stream",
     "text": [
      "/anaconda3/bin:/anaconda3/bin:/Users/williamsano/anaconda3/bin:/Users/williamsano/miniconda3/bin:/usr/local/bin:/usr/bin:/bin:/usr/sbin:/sbin:/usr/local/ncbi/blast/bin:/Users/williamsano/scripts\n",
      "/Users/williamsano/Documents/GitHub/will-Chiru16S\n"
     ]
    }
   ],
   "source": [
    "!echo $PATH\n",
    "!pwd"
   ]
  },
  {
   "cell_type": "markdown",
   "metadata": {},
   "source": [
    "Yue's Chiru fq.gz sent to me via email on 10.18.18, 3:27pm in Google Drive Folder. Files were zipped, downloaded, and placed into `./data/Yue/raw/`. Data then unzipped via gunzip"
   ]
  },
  {
   "cell_type": "code",
   "execution_count": 3,
   "metadata": {},
   "outputs": [],
   "source": [
    "!gunzip -k -q data/Yue/raw/*.fq.gz"
   ]
  },
  {
   "cell_type": "code",
   "execution_count": 5,
   "metadata": {},
   "outputs": [
    {
     "name": "stdout",
     "output_type": "stream",
     "text": [
      "\u001b[34mraw\u001b[m\u001b[m                 \u001b[31mraw.split.A_4.1.fq\u001b[m\u001b[m  \u001b[31mraw.split.F_10.2.fq\u001b[m\u001b[m \u001b[31mraw.split.F_15.1.fq\u001b[m\u001b[m\r\n",
      "\u001b[31mraw.split.A_2.1.fq\u001b[m\u001b[m  \u001b[31mraw.split.A_4.2.fq\u001b[m\u001b[m  \u001b[31mraw.split.F_11.1.fq\u001b[m\u001b[m \u001b[31mraw.split.F_15.2.fq\u001b[m\u001b[m\r\n",
      "\u001b[31mraw.split.A_2.2.fq\u001b[m\u001b[m  \u001b[31mraw.split.A_5.1.fq\u001b[m\u001b[m  \u001b[31mraw.split.F_11.2.fq\u001b[m\u001b[m\r\n",
      "\u001b[31mraw.split.A_3.1.fq\u001b[m\u001b[m  \u001b[31mraw.split.A_5.2.fq\u001b[m\u001b[m  \u001b[31mraw.split.F_13.1.fq\u001b[m\u001b[m\r\n",
      "\u001b[31mraw.split.A_3.2.fq\u001b[m\u001b[m  \u001b[31mraw.split.F_10.1.fq\u001b[m\u001b[m \u001b[31mraw.split.F_13.2.fq\u001b[m\u001b[m\r\n"
     ]
    }
   ],
   "source": [
    "!mv data/Yue/raw/*.fq data/Yue/\n",
    "!ls data/Yue"
   ]
  },
  {
   "cell_type": "code",
   "execution_count": null,
   "metadata": {},
   "outputs": [],
   "source": []
  },
  {
   "cell_type": "code",
   "execution_count": null,
   "metadata": {},
   "outputs": [],
   "source": []
  }
 ],
 "metadata": {
  "kernelspec": {
   "display_name": "Python 3",
   "language": "python",
   "name": "python3"
  },
  "language_info": {
   "codemirror_mode": {
    "name": "ipython",
    "version": 3
   },
   "file_extension": ".py",
   "mimetype": "text/x-python",
   "name": "python",
   "nbconvert_exporter": "python",
   "pygments_lexer": "ipython3",
   "version": "3.7.0"
  }
 },
 "nbformat": 4,
 "nbformat_minor": 2
}
