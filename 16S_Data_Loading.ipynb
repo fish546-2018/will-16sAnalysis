{
 "cells": [
  {
   "cell_type": "markdown",
   "metadata": {},
   "source": [
    "# Loading 16s Data for Microbiome Analysis"
   ]
  },
  {
   "cell_type": "markdown",
   "metadata": {},
   "source": [
    "Downloading data from the European Nucleotide Archive"
   ]
  },
  {
   "cell_type": "code",
   "execution_count": 24,
   "metadata": {
    "scrolled": true
   },
   "outputs": [
    {
     "name": "stdout",
     "output_type": "stream",
     "text": [
      "/anaconda3/bin:/anaconda3/bin:/Users/williamsano/anaconda3/bin:/Users/williamsano/miniconda3/bin:/usr/local/bin:/usr/bin:/bin:/usr/sbin:/sbin:/usr/local/ncbi/blast/bin:/Users/williamsano/scripts\n",
      "/Users/williamsano/Documents/GitHub/will-16sAnalysis\n",
      "AnnotationExercise.RmD   README.md                \u001b[34manalyses\u001b[m\u001b[m\n",
      "AnnotationExercise.ipynb Untitled.ipynb           \u001b[34mdata\u001b[m\u001b[m\n"
     ]
    }
   ],
   "source": [
    "!echo $PATH\n",
    "!pwd\n",
    "!ls"
   ]
  },
  {
   "cell_type": "code",
   "execution_count": 25,
   "metadata": {
    "scrolled": true
   },
   "outputs": [
    {
     "name": "stdout",
     "output_type": "stream",
     "text": [
      "--2018-10-18 10:00:44--  ftp://ftp.sra.ebi.ac.uk/vol1/fastq/ERR220/007/ERR2205247/ERR2205247.fastq.gz\n",
      "           => ‘./data/NEWAtest/raw/ERR2205247.fastq.gz.1’\n",
      "Resolving ftp.sra.ebi.ac.uk (ftp.sra.ebi.ac.uk)... 193.62.192.7\n",
      "Connecting to ftp.sra.ebi.ac.uk (ftp.sra.ebi.ac.uk)|193.62.192.7|:21... connected.\n",
      "Logging in as anonymous ... Logged in!\n",
      "==> SYST ... done.    ==> PWD ... done.\n",
      "==> TYPE I ... done.  ==> CWD (1) /vol1/fastq/ERR220/007/ERR2205247 ... done.\n",
      "==> SIZE ERR2205247.fastq.gz ... 17604046\n",
      "==> PASV ... done.    ==> RETR ERR2205247.fastq.gz ... done.\n",
      "Length: 17604046 (17M) (unauthoritative)\n",
      "\n",
      "ERR2205247.fastq.gz 100%[===================>]  16.79M  2.79MB/s    in 8.3s    \n",
      "\n",
      "2018-10-18 10:00:56 (2.03 MB/s) - ‘./data/NEWAtest/raw/ERR2205247.fastq.gz.1’ saved [17604046]\n",
      "\n",
      "--2018-10-18 10:00:57--  ftp://ftp.sra.ebi.ac.uk/vol1/fastq/ERR220/006/ERR2205256/ERR2205256.fastq.gz\n",
      "           => ‘./data/NEWAtest/raw/ERR2205256.fastq.gz’\n",
      "Resolving ftp.sra.ebi.ac.uk (ftp.sra.ebi.ac.uk)... 193.62.192.7\n",
      "Connecting to ftp.sra.ebi.ac.uk (ftp.sra.ebi.ac.uk)|193.62.192.7|:21... connected.\n",
      "Logging in as anonymous ... Logged in!\n",
      "==> SYST ... done.    ==> PWD ... done.\n",
      "==> TYPE I ... done.  ==> CWD (1) /vol1/fastq/ERR220/006/ERR2205256 ... done.\n",
      "==> SIZE ERR2205256.fastq.gz ... 14607559\n",
      "==> PASV ... done.    ==> RETR ERR2205256.fastq.gz ... done.\n",
      "Length: 14607559 (14M) (unauthoritative)\n",
      "\n",
      "ERR2205256.fastq.gz 100%[===================>]  13.93M  1.96MB/s    in 9.2s    \n",
      "\n",
      "2018-10-18 10:01:08 (1.52 MB/s) - ‘./data/NEWAtest/raw/ERR2205256.fastq.gz’ saved [14607559]\n",
      "\n",
      "--2018-10-18 10:01:08--  ftp://ftp.sra.ebi.ac.uk/vol1/fastq/ERR220/004/ERR2205274/ERR2205274.fastq.gz\n",
      "           => ‘./data/NEWAtest/raw/ERR2205274.fastq.gz’\n",
      "Resolving ftp.sra.ebi.ac.uk (ftp.sra.ebi.ac.uk)... 193.62.192.7\n",
      "Connecting to ftp.sra.ebi.ac.uk (ftp.sra.ebi.ac.uk)|193.62.192.7|:21... connected.\n",
      "Logging in as anonymous ... Logged in!\n",
      "==> SYST ... done.    ==> PWD ... done.\n",
      "==> TYPE I ... done.  ==> CWD (1) /vol1/fastq/ERR220/004/ERR2205274 ... done.\n",
      "==> SIZE ERR2205274.fastq.gz ... 4696014\n",
      "==> PASV ... done.    ==> RETR ERR2205274.fastq.gz ... done.\n",
      "Length: 4696014 (4.5M) (unauthoritative)\n",
      "\n",
      "ERR2205274.fastq.gz 100%[===================>]   4.48M   802KB/s    in 7.8s    \n",
      "\n",
      "2018-10-18 10:01:26 (589 KB/s) - ‘./data/NEWAtest/raw/ERR2205274.fastq.gz’ saved [4696014]\n",
      "\n",
      "--2018-10-18 10:01:26--  ftp://ftp.sra.ebi.ac.uk/vol1/fastq/ERR220/005/ERR2205275/ERR2205275.fastq.gz\n",
      "           => ‘./data/NEWAtest/raw/ERR2205275.fastq.gz’\n",
      "Resolving ftp.sra.ebi.ac.uk (ftp.sra.ebi.ac.uk)... 193.62.192.7\n",
      "Connecting to ftp.sra.ebi.ac.uk (ftp.sra.ebi.ac.uk)|193.62.192.7|:21... connected.\n",
      "Logging in as anonymous ... Logged in!\n",
      "==> SYST ... done.    ==> PWD ... done.\n",
      "==> TYPE I ... done.  ==> CWD (1) /vol1/fastq/ERR220/005/ERR2205275 ... done.\n",
      "==> SIZE ERR2205275.fastq.gz ... 4352250\n",
      "==> PASV ... done.    ==> RETR ERR2205275.fastq.gz ... done.\n",
      "Length: 4352250 (4.2M) (unauthoritative)\n",
      "\n",
      "ERR2205275.fastq.gz 100%[===================>]   4.15M   986KB/s    in 4.3s    \n",
      "\n",
      "2018-10-18 10:01:33 (986 KB/s) - ‘./data/NEWAtest/raw/ERR2205275.fastq.gz’ saved [4352250]\n",
      "\n",
      "--2018-10-18 10:01:33--  ftp://ftp.sra.ebi.ac.uk/vol1/fastq/ERR220/006/ERR2205276/ERR2205276.fastq.gz\n",
      "           => ‘./data/NEWAtest/raw/ERR2205276.fastq.gz’\n",
      "Resolving ftp.sra.ebi.ac.uk (ftp.sra.ebi.ac.uk)... 193.62.192.7\n",
      "Connecting to ftp.sra.ebi.ac.uk (ftp.sra.ebi.ac.uk)|193.62.192.7|:21... connected.\n",
      "Logging in as anonymous ... Logged in!\n",
      "==> SYST ... done.    ==> PWD ... done.\n",
      "==> TYPE I ... done.  ==> CWD (1) /vol1/fastq/ERR220/006/ERR2205276 ... done.\n",
      "==> SIZE ERR2205276.fastq.gz ... 5358869\n",
      "==> PASV ... done.    ==> RETR ERR2205276.fastq.gz ... done.\n",
      "Length: 5358869 (5.1M) (unauthoritative)\n",
      "\n",
      "ERR2205276.fastq.gz 100%[===================>]   5.11M  1.10MB/s    in 8.3s    \n",
      "\n",
      "2018-10-18 10:01:44 (630 KB/s) - ‘./data/NEWAtest/raw/ERR2205276.fastq.gz’ saved [5358869]\n",
      "\n"
     ]
    }
   ],
   "source": [
    "!wget -P ./data/NEWAtest/raw ftp://ftp.sra.ebi.ac.uk/vol1/fastq/ERR220/007/ERR2205247/ERR2205247.fastq.gz\n",
    "!wget -P ./data/NEWAtest/raw ftp://ftp.sra.ebi.ac.uk/vol1/fastq/ERR220/006/ERR2205256/ERR2205256.fastq.gz\n",
    "!wget -P ./data/NEWAtest/raw ftp://ftp.sra.ebi.ac.uk/vol1/fastq/ERR220/004/ERR2205274/ERR2205274.fastq.gz\n",
    "!wget -P ./data/NEWAtest/raw ftp://ftp.sra.ebi.ac.uk/vol1/fastq/ERR220/005/ERR2205275/ERR2205275.fastq.gz\n",
    "!wget -P ./data/NEWAtest/raw ftp://ftp.sra.ebi.ac.uk/vol1/fastq/ERR220/006/ERR2205276/ERR2205276.fastq.gz"
   ]
  },
  {
   "cell_type": "code",
   "execution_count": 29,
   "metadata": {
    "scrolled": true
   },
   "outputs": [],
   "source": [
    "!gunzip -k -q data/NEWAtest/raw/*.fastq.gz"
   ]
  },
  {
   "cell_type": "code",
   "execution_count": 30,
   "metadata": {},
   "outputs": [
    {
     "name": "stdout",
     "output_type": "stream",
     "text": [
      "ERR2205247.fastq    ERR2205256.fastq.gz ERR2205275.fastq    ERR2205276.fastq.gz\r\n",
      "ERR2205247.fastq.gz ERR2205274.fastq    ERR2205275.fastq.gz\r\n",
      "ERR2205256.fastq    ERR2205274.fastq.gz ERR2205276.fastq\r\n"
     ]
    }
   ],
   "source": [
    "!ls data/NEWAtest/raw"
   ]
  },
  {
   "cell_type": "code",
   "execution_count": 31,
   "metadata": {},
   "outputs": [
    {
     "name": "stdout",
     "output_type": "stream",
     "text": [
      "\r\n",
      "Usage:   \r\n",
      "  pip <command> [options]\r\n",
      "\r\n",
      "Commands:\r\n",
      "  install                     Install packages.\r\n",
      "  download                    Download packages.\r\n",
      "  uninstall                   Uninstall packages.\r\n",
      "  freeze                      Output installed packages in requirements format.\r\n",
      "  list                        List installed packages.\r\n",
      "  show                        Show information about installed packages.\r\n",
      "  check                       Verify installed packages have compatible dependencies.\r\n",
      "  config                      Manage local and global configuration.\r\n",
      "  search                      Search PyPI for packages.\r\n",
      "  wheel                       Build wheels from your requirements.\r\n",
      "  hash                        Compute hashes of package archives.\r\n",
      "  completion                  A helper command used for command completion.\r\n",
      "  help                        Show help for commands.\r\n",
      "\r\n",
      "General Options:\r\n",
      "  -h, --help                  Show help.\r\n",
      "  --isolated                  Run pip in an isolated mode, ignoring\r\n",
      "                              environment variables and user configuration.\r\n",
      "  -v, --verbose               Give more output. Option is additive, and can be\r\n",
      "                              used up to 3 times.\r\n",
      "  -V, --version               Show version and exit.\r\n",
      "  -q, --quiet                 Give less output. Option is additive, and can be\r\n",
      "                              used up to 3 times (corresponding to WARNING,\r\n",
      "                              ERROR, and CRITICAL logging levels).\r\n",
      "  --log <path>                Path to a verbose appending log.\r\n",
      "  --proxy <proxy>             Specify a proxy in the form\r\n",
      "                              [user:passwd@]proxy.server:port.\r\n",
      "  --retries <retries>         Maximum number of retries each connection should\r\n",
      "                              attempt (default 5 times).\r\n",
      "  --timeout <sec>             Set the socket timeout (default 15 seconds).\r\n",
      "  --exists-action <action>    Default action when a path already exists:\r\n",
      "                              (s)witch, (i)gnore, (w)ipe, (b)ackup, (a)bort).\r\n",
      "  --trusted-host <hostname>   Mark this host as trusted, even though it does\r\n",
      "                              not have valid or any HTTPS.\r\n",
      "  --cert <path>               Path to alternate CA bundle.\r\n",
      "  --client-cert <path>        Path to SSL client certificate, a single file\r\n",
      "                              containing the private key and the certificate\r\n",
      "                              in PEM format.\r\n",
      "  --cache-dir <dir>           Store the cache data in <dir>.\r\n",
      "  --no-cache-dir              Disable the cache.\r\n",
      "  --disable-pip-version-check\r\n",
      "                              Don't periodically check PyPI to determine\r\n",
      "                              whether a new version of pip is available for\r\n",
      "                              download. Implied with --no-index.\r\n",
      "  --no-color                  Suppress colored output\r\n"
     ]
    }
   ],
   "source": [
    "!pip install "
   ]
  },
  {
   "cell_type": "code",
   "execution_count": null,
   "metadata": {},
   "outputs": [],
   "source": []
  }
 ],
 "metadata": {
  "kernelspec": {
   "display_name": "Python 3",
   "language": "python",
   "name": "python3"
  },
  "language_info": {
   "codemirror_mode": {
    "name": "ipython",
    "version": 3
   },
   "file_extension": ".py",
   "mimetype": "text/x-python",
   "name": "python",
   "nbconvert_exporter": "python",
   "pygments_lexer": "ipython3",
   "version": "3.7.0"
  }
 },
 "nbformat": 4,
 "nbformat_minor": 2
}
